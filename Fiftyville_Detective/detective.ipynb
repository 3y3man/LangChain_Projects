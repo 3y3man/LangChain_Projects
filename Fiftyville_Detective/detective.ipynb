{
 "cells": [
  {
   "cell_type": "markdown",
   "metadata": {},
   "source": [
    "This project is inspired by the CS50x Fiftyville Problem Set;\n",
    "https://cs50.harvard.edu/x/2022/psets/7/fiftyville/"
   ]
  },
  {
   "cell_type": "markdown",
   "metadata": {},
   "source": [
    "```bash\n",
    "Libraries: Install\n",
    "```"
   ]
  },
  {
   "cell_type": "code",
   "execution_count": 1,
   "metadata": {},
   "outputs": [],
   "source": [
    "!pip install --upgrade --quiet langchain langchain-community langchain-openai langchainhub"
   ]
  },
  {
   "cell_type": "markdown",
   "metadata": {},
   "source": [
    "```bash\n",
    "Libraries: Import\n",
    "```"
   ]
  },
  {
   "cell_type": "code",
   "execution_count": 2,
   "metadata": {},
   "outputs": [],
   "source": [
    "import getpass\n",
    "import os\n",
    "from langchain.chains import create_sql_query_chain\n",
    "from langchain.chains.combine_documents import create_stuff_documents_chain\n",
    "from langchain_community.tools.sql_database.tool import QuerySQLDataBaseTool\n",
    "from langchain_community.utilities import SQLDatabase\n",
    "from langchain_core.output_parsers import StrOutputParser\n",
    "from langchain_core.prompts import PromptTemplate, ChatPromptTemplate\n",
    "from langchain_core.runnables import RunnablePassthrough\n",
    "from langchain_openai import ChatOpenAI\n",
    "from operator import itemgetter"
   ]
  },
  {
   "cell_type": "markdown",
   "metadata": {},
   "source": [
    "```bash\n",
    "Connect: OpenAI\n",
    "```"
   ]
  },
  {
   "cell_type": "code",
   "execution_count": 3,
   "metadata": {},
   "outputs": [],
   "source": [
    "os.environ[\"OPENAI_API_KEY\"] = getpass.getpass()\n",
    "\n",
    "from langchain_openai import ChatOpenAI\n",
    "\n",
    "# Choose model\n",
    "llm = ChatOpenAI(model=\"gpt-3.5-turbo\")"
   ]
  },
  {
   "cell_type": "markdown",
   "metadata": {},
   "source": [
    "```bash\n",
    "Connect: Database\n",
    "```"
   ]
  },
  {
   "cell_type": "code",
   "execution_count": 4,
   "metadata": {},
   "outputs": [],
   "source": [
    "db = SQLDatabase.from_uri(\"sqlite:///data/fiftyville.db\")"
   ]
  },
  {
   "cell_type": "markdown",
   "metadata": {},
   "source": [
    "```js\n",
    "Inspect Database\n",
    "```"
   ]
  },
  {
   "cell_type": "code",
   "execution_count": 5,
   "metadata": {},
   "outputs": [
    {
     "name": "stdout",
     "output_type": "stream",
     "text": [
      "sqlite\n"
     ]
    }
   ],
   "source": [
    "print(db.dialect)"
   ]
  },
  {
   "cell_type": "code",
   "execution_count": 6,
   "metadata": {},
   "outputs": [
    {
     "name": "stdout",
     "output_type": "stream",
     "text": [
      "['airports', 'atm_transactions', 'bakery_security_logs', 'bank_accounts', 'crime_scene_reports', 'flights', 'interviews', 'passengers', 'people', 'phone_calls']\n"
     ]
    }
   ],
   "source": [
    "print(db.get_usable_table_names())"
   ]
  },
  {
   "cell_type": "code",
   "execution_count": 7,
   "metadata": {},
   "outputs": [
    {
     "name": "stdout",
     "output_type": "stream",
     "text": [
      "\n",
      "Column names: airport\n"
     ]
    },
    {
     "data": {
      "text/plain": [
       "\"[('id',), ('year',), ('month',), ('day',), ('street',), ('description',)]\""
      ]
     },
     "execution_count": 7,
     "metadata": {},
     "output_type": "execute_result"
    }
   ],
   "source": [
    "print(\"\\nColumn names: airport\")\n",
    "db.run(\"SELECT name FROM PRAGMA_TABLE_INFO('crime_scene_reports');\")"
   ]
  },
  {
   "cell_type": "code",
   "execution_count": 8,
   "metadata": {},
   "outputs": [
    {
     "data": {
      "text/plain": [
       "\"[(1, 2021, 1, 1, 'Chamberlin Street', 'Credit card fraud took place at 00:53. Two people witnessed the event.'), (2, 2021, 1, 1, 'Zlatkova Street', 'Burglary took place at 05:23. Two people witnessed the event.'), (3, 2021, 1, 1, 'Bowden Boulevard', 'Shoplifting took place at 20:48. Two people witnessed the event.'), (4, 2021, 1, 1, 'Boyce Avenue', 'Jaywalking took place at 23:37. Two people witnessed the event.'), (5, 2021, 1, 2, 'Widenius Street', 'Jaywalking took place at 20:33. One person witnessed the incident.')]\""
      ]
     },
     "execution_count": 8,
     "metadata": {},
     "output_type": "execute_result"
    }
   ],
   "source": [
    "db.run(\"SELECT * from crime_scene_reports LIMIT 5;\")"
   ]
  },
  {
   "cell_type": "markdown",
   "metadata": {},
   "source": [
    "```js\n",
    "Chain: Generate SQL Query\n",
    "```"
   ]
  },
  {
   "cell_type": "code",
   "execution_count": 9,
   "metadata": {},
   "outputs": [
    {
     "data": {
      "text/plain": [
       "\"SELECT COUNT(DISTINCT license_plate) as total_people\\nFROM bakery_security_logs\\nWHERE activity = 'entrance';\""
      ]
     },
     "execution_count": 9,
     "metadata": {},
     "output_type": "execute_result"
    }
   ],
   "source": [
    "# 'create_sql_query_chain' to generate SQL Query for a database from natural language\n",
    "chain = create_sql_query_chain(llm, db)\n",
    "response = chain.invoke({\"question\": \"How many people came into the parking lot?\"})\n",
    "response"
   ]
  },
  {
   "cell_type": "code",
   "execution_count": 10,
   "metadata": {},
   "outputs": [
    {
     "data": {
      "text/plain": [
       "'[(140,)]'"
      ]
     },
     "execution_count": 10,
     "metadata": {},
     "output_type": "execute_result"
    }
   ],
   "source": [
    "# test the generated query on the database\n",
    "db.run(response)"
   ]
  },
  {
   "cell_type": "markdown",
   "metadata": {},
   "source": [
    "```js\n",
    "Chain: query generation and query execusion \n",
    "```"
   ]
  },
  {
   "cell_type": "code",
   "execution_count": 11,
   "metadata": {},
   "outputs": [],
   "source": [
    "# tool to execute a given query on a database\n",
    "execute_query = QuerySQLDataBaseTool(db=db)\n",
    "# and the query generator\n",
    "write_query = create_sql_query_chain(llm, db)\n",
    "# chain both together\n",
    "chain = write_query | execute_query"
   ]
  },
  {
   "cell_type": "code",
   "execution_count": 12,
   "metadata": {},
   "outputs": [
    {
     "data": {
      "text/plain": [
       "'[(58,)]'"
      ]
     },
     "execution_count": 12,
     "metadata": {},
     "output_type": "execute_result"
    }
   ],
   "source": [
    "chain.invoke({\"question\": \"How many flights are there?\"})"
   ]
  },
  {
   "cell_type": "markdown",
   "metadata": {},
   "source": [
    "```js\n",
    "Next Steps:- \n",
    "Chain: generate and execute query with custom prompt\n",
    "- Prompt\n",
    "```"
   ]
  },
  {
   "cell_type": "code",
   "execution_count": 13,
   "metadata": {},
   "outputs": [],
   "source": [
    "detective_prompt = PromptTemplate.from_template(\n",
    "    \"\"\"\n",
    "You are a detective tasked with solving the mystery of the stolen CS50 Duck in Fiftyville. Use the provided database schema to write and execute SQL queries that will help you find the answers to the following questions:\n",
    "\n",
    "1. Who the thief is,\n",
    "2. What city the thief escaped to, and\n",
    "3. Who the thief’s accomplice is who helped them escape.\n",
    "\n",
    "The theft took place on July 28, 2021, on Humphrey Street. The thief stole the duck and took a flight out of town shortly afterward with the help of an accomplice.\n",
    "\n",
    "Here are the relevant tables in the Fiftyville database:\n",
    "- crime_scene_reports(id INTEGER, year INTEGER, month INTEGER, day INTEGER, street TEXT, description TEXT)\n",
    "- interviews(id INTEGER, name TEXT, year INTEGER, month INTEGER, day INTEGER, transcript TEXT)\n",
    "- atm_transactions(id INTEGER, account_number INTEGER, year INTEGER, month INTEGER, day INTEGER, atm_location TEXT, transaction_type TEXT, amount INTEGER)\n",
    "- bank_accounts(account_number INTEGER, person_id INTEGER, creation_year INTEGER)\n",
    "- airports(id INTEGER, abbreviation TEXT, full_name TEXT, city TEXT)\n",
    "- flights(id INTEGER, origin_airport_id INTEGER, destination_airport_id INTEGER, year INTEGER, month INTEGER, day INTEGER, hour INTEGER, minute INTEGER)\n",
    "- passengers(flight_id INTEGER, passport_number INTEGER, seat TEXT)\n",
    "- phone_calls(id INTEGER, caller TEXT, receiver TEXT, year INTEGER, month INTEGER, day INTEGER, duration INTEGER)\n",
    "- people(id INTEGER, name TEXT, phone_number TEXT, passport_number INTEGER, license_plate TEXT)\n",
    "- bakery_security_logs(id INTEGER, year INTEGER, month INTEGER, day INTEGER, hour INTEGER, minute INTEGER, activity TEXT, license_plate TEXT)\n",
    "\n",
    "Use this context to answer the following user questions by creating the necessary SQL queries and interpreting the SQL results to guide the investigation.\n",
    "\n",
    "Question: {question}\n",
    "\n",
    "SQL Query: {query}\n",
    "SQL Result: {result}\n",
    "Answer: \n",
    "\"\"\"\n",
    ")"
   ]
  },
  {
   "cell_type": "markdown",
   "metadata": {},
   "source": [
    "```js\n",
    "- Chain\n",
    "```"
   ]
  },
  {
   "cell_type": "code",
   "execution_count": 14,
   "metadata": {},
   "outputs": [],
   "source": [
    "chain = (\n",
    "    RunnablePassthrough.assign(query=write_query).assign(\n",
    "        result=itemgetter(\"query\") | execute_query\n",
    "    )\n",
    "    | detective_prompt\n",
    "    | llm\n",
    "    | StrOutputParser()\n",
    ")"
   ]
  },
  {
   "cell_type": "markdown",
   "metadata": {},
   "source": [
    "```js\n",
    "- Invoke\n",
    "```"
   ]
  },
  {
   "cell_type": "code",
   "execution_count": 15,
   "metadata": {},
   "outputs": [
    {
     "data": {
      "text/plain": [
       "'The crime of the stolen CS50 Duck was reported on July 28, 2021. The exact time of the crime was not provided in the SQL query results, so further investigation or querying may be needed to determine the specific time the crime was committed.'"
      ]
     },
     "execution_count": 15,
     "metadata": {},
     "output_type": "execute_result"
    }
   ],
   "source": [
    "chain.invoke({\"question\": \"What time was the crime reported and commited?\"})"
   ]
  },
  {
   "cell_type": "code",
   "execution_count": 16,
   "metadata": {},
   "outputs": [
    {
     "data": {
      "text/plain": [
       "'Around the time the crime was committed on July 28, 2021, other crimes took place in Fiftyville. These included credit card fraud on Chamberlin Street at 00:53, burglary on Zlatkova Street at 05:23, shoplifting on Bowden Boulevard at 20:48, and jaywalking on Boyce Avenue at 23:37. Each of these incidents had two witnesses present.'"
      ]
     },
     "execution_count": 16,
     "metadata": {},
     "output_type": "execute_result"
    }
   ],
   "source": [
    "chain.invoke({\"question\": \"What else happended around the time the crime was committed?\"})"
   ]
  },
  {
   "cell_type": "code",
   "execution_count": null,
   "metadata": {},
   "outputs": [],
   "source": []
  }
 ],
 "metadata": {
  "kernelspec": {
   "display_name": "Python 3",
   "language": "python",
   "name": "python3"
  },
  "language_info": {
   "codemirror_mode": {
    "name": "ipython",
    "version": 3
   },
   "file_extension": ".py",
   "mimetype": "text/x-python",
   "name": "python",
   "nbconvert_exporter": "python",
   "pygments_lexer": "ipython3",
   "version": "3.11.4"
  }
 },
 "nbformat": 4,
 "nbformat_minor": 2
}
