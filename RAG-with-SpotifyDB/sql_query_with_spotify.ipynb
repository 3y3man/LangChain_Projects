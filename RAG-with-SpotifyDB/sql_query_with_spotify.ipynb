{
 "cells": [
  {
   "cell_type": "code",
   "execution_count": 1,
   "metadata": {},
   "outputs": [],
   "source": [
    "# Install libraries required\n",
    "!pip install --upgrade --quiet langchain langchain-community langchain-openai faiss-cpu"
   ]
  },
  {
   "cell_type": "code",
   "execution_count": 2,
   "metadata": {},
   "outputs": [],
   "source": [
    "# import libraries required\n",
    "import getpass\n",
    "import os\n",
    "from langchain.chains import create_sql_query_chain\n",
    "from langchain_community.tools.sql_database.tool import QuerySQLDataBaseTool\n",
    "from langchain_community.utilities import SQLDatabase\n",
    "from langchain_core.output_parsers import StrOutputParser\n",
    "from langchain_core.prompts import PromptTemplate\n",
    "from langchain_core.runnables import RunnablePassthrough\n",
    "from langchain_openai import ChatOpenAI\n",
    "from operator import itemgetter"
   ]
  },
  {
   "cell_type": "code",
   "execution_count": 3,
   "metadata": {},
   "outputs": [],
   "source": [
    "# connect to chat gpt\n",
    "if not os.environ.get(\"OPENAI_API_KEY\"):\n",
    "    os.environ[\"OPENAI_API_KEY\"] = getpass.getpass()"
   ]
  },
  {
   "cell_type": "code",
   "execution_count": 4,
   "metadata": {},
   "outputs": [
    {
     "name": "stdout",
     "output_type": "stream",
     "text": [
      "sqlite\n",
      "['top_streams']\n",
      "\n",
      "Column names:\n"
     ]
    },
    {
     "data": {
      "text/plain": [
       "\"[('Track',), ('Album Name',), ('Artist',), ('Release Date',), ('ISRC',), ('All Time Rank',), ('Track Score',), ('Spotify Streams',), ('Spotify Playlist Count',), ('Spotify Playlist Reach',), ('Spotify Popularity',), ('YouTube Views',), ('YouTube Likes',), ('TikTok Posts',), ('TikTok Likes',), ('TikTok Views',), ('YouTube Playlist Reach',), ('Apple Music Playlist Count',), ('AirPlay Spins',), ('SiriusXM Spins',), ('Deezer Playlist Count',), ('Deezer Playlist Reach',), ('Amazon Playlist Count',), ('Pandora Streams',), ('Pandora Track Stations',), ('Soundcloud Streams',), ('Shazam Counts',), ('TIDAL Popularity',), ('Explicit Track',)]\""
      ]
     },
     "execution_count": 4,
     "metadata": {},
     "output_type": "execute_result"
    }
   ],
   "source": [
    "# connect and test database\n",
    "db = SQLDatabase.from_uri(\"sqlite:///spotify.db\")\n",
    "\n",
    "print(db.dialect)\n",
    "print(db.get_usable_table_names())\n",
    "db.run(\"SELECT * FROM top_streams LIMIT 1;\")\n",
    "print(\"\\nColumn names:\")\n",
    "db.run(\"SELECT name FROM PRAGMA_TABLE_INFO('top_streams');\")"
   ]
  },
  {
   "cell_type": "code",
   "execution_count": 5,
   "metadata": {},
   "outputs": [],
   "source": [
    "# choose model\n",
    "llm = ChatOpenAI(model=\"gpt-3.5-turbo\")"
   ]
  },
  {
   "cell_type": "code",
   "execution_count": 6,
   "metadata": {},
   "outputs": [
    {
     "data": {
      "text/plain": [
       "'[(4600,)]'"
      ]
     },
     "execution_count": 6,
     "metadata": {},
     "output_type": "execute_result"
    }
   ],
   "source": [
    "# chain the response with the query\n",
    "execute_query = QuerySQLDataBaseTool(db=db)\n",
    "write_query = create_sql_query_chain(llm, db)\n",
    "chain = write_query | execute_query\n",
    "chain.invoke({\"question\": \"How many tracks are there\"})"
   ]
  },
  {
   "cell_type": "code",
   "execution_count": 7,
   "metadata": {},
   "outputs": [],
   "source": [
    "# prompt\n",
    "answer_prompt = PromptTemplate.from_template(\n",
    "\"\"\"You are an agent that uses data from a Spotify Database about the most streamed songs on spotify in 2024.\n",
    "Here is a description of each column;\n",
    "\n",
    "\n",
    "Track Name: Name of the song.\n",
    "Album Name: Name of the album the song belongs to.\n",
    "Artist: Name of the artist(s) of the song.\n",
    "Release Date: Date when the song was released.\n",
    "ISRC: International Standard Recording Code for the song.\n",
    "All Time Rank: Ranking of the song based on its all-time popularity.\n",
    "Track Score: Score assigned to the track based on various factors.\n",
    "Spotify Streams: Total number of streams on Spotify.\n",
    "Spotify Playlist Count: Number of Spotify playlists the song is included in.\n",
    "Spotify Playlist Reach: Reach of the song across Spotify playlists.\n",
    "Spotify Popularity: Popularity score of the song on Spotify.\n",
    "YouTube Views: Total views of the song's official video on YouTube.\n",
    "YouTube Likes: Total likes on the song's official video on YouTube.\n",
    "TikTok Posts: Number of TikTok posts featuring the song.\n",
    "TikTok Likes: Total likes on TikTok posts featuring the song.\n",
    "TikTok Views: Total views on TikTok posts featuring the song.\n",
    "YouTube Playlist Reach: Reach of the song across YouTube playlists.\n",
    "Apple Music Playlist Count: Number of Apple Music playlists the song is included in.\n",
    "AirPlay Spins: Number of times the song has been played on radio stations.\n",
    "SiriusXM Spins: Number of times the song has been played on SiriusXM.\n",
    "Deezer Playlist Count: Number of Deezer playlists the song is included in.\n",
    "Deezer Playlist Reach: Reach of the song across Deezer playlists.\n",
    "Amazon Playlist Count: Number of Amazon Music playlists the song is included in.\n",
    "Pandora Streams: Total number of streams on Pandora.\n",
    "Pandora Track Stations: Number of Pandora stations featuring the song.\n",
    "Soundcloud Streams: Total number of streams on Soundcloud.\n",
    "Shazam Counts: Total number of times the song has been Shazamed.\n",
    "TIDAL Popularity: Popularity score of the song on TIDAL.\n",
    "Explicit Track: Indicates whether the song contains explicit content.\n",
    "    \n",
    "    \n",
    "Given the following user question, corresponding SQL query, and SQL result, answer the user question in a human friendly tone. \n",
    "Take each column description into consideration when making a decision.\n",
    "\n",
    "Question: {question}\n",
    "SQL Query: {query}\n",
    "SQL Result: {result}\n",
    "Answer: \"\"\"\n",
    ")"
   ]
  },
  {
   "cell_type": "code",
   "execution_count": 8,
   "metadata": {},
   "outputs": [],
   "source": [
    "# chain\n",
    "\n",
    "# execute_query = QuerySQLDataBaseTool(db=db)\n",
    "# # create_sql_query_chain to have llm generate sql query from natural language\n",
    "# write_query = create_sql_query_chain(llm, db)\n",
    "\n",
    "chain = (\n",
    "    RunnablePassthrough.assign(query=write_query).assign(\n",
    "        result=itemgetter(\"query\") | execute_query\n",
    "    )\n",
    "    | answer_prompt\n",
    "    | llm\n",
    "    | StrOutputParser()\n",
    ")"
   ]
  },
  {
   "cell_type": "code",
   "execution_count": 9,
   "metadata": {},
   "outputs": [
    {
     "data": {
      "text/plain": [
       "'There are a total of 2000 artists in the Spotify Database based on the most streamed songs in 2024.'"
      ]
     },
     "execution_count": 9,
     "metadata": {},
     "output_type": "execute_result"
    }
   ],
   "source": [
    "# run\n",
    "chain.invoke({\"question\": \"How many artists are there\"})"
   ]
  },
  {
   "cell_type": "code",
   "execution_count": 10,
   "metadata": {},
   "outputs": [
    {
     "data": {
      "text/plain": [
       "\"I'm sorry, but it seems there was an error while trying to retrieve the information about the best song in the database. The SQL query attempted to select the track name, artist, and track score of the song with the highest score, but it seems there was a programming error. Let me try to run the query again to provide you with the details of the best song. Thank you for your patience.\""
      ]
     },
     "execution_count": 10,
     "metadata": {},
     "output_type": "execute_result"
    }
   ],
   "source": [
    "# run with input\n",
    "chain.invoke({\"question\": input(\"What is your question?\")})"
   ]
  },
  {
   "cell_type": "code",
   "execution_count": null,
   "metadata": {},
   "outputs": [],
   "source": []
  }
 ],
 "metadata": {
  "kernelspec": {
   "display_name": "Python 3",
   "language": "python",
   "name": "python3"
  },
  "language_info": {
   "codemirror_mode": {
    "name": "ipython",
    "version": 3
   },
   "file_extension": ".py",
   "mimetype": "text/x-python",
   "name": "python",
   "nbconvert_exporter": "python",
   "pygments_lexer": "ipython3",
   "version": "3.11.4"
  }
 },
 "nbformat": 4,
 "nbformat_minor": 2
}
